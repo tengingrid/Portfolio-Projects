{
 "cells": [
  {
   "cell_type": "code",
   "execution_count": 1,
   "id": "66c56c75",
   "metadata": {},
   "outputs": [],
   "source": [
    "import numpy as np\n",
    "import pandas as pd\n",
    "import matplotlib.pyplot as plt"
   ]
  },
  {
   "cell_type": "code",
   "execution_count": 2,
   "id": "df9efc99",
   "metadata": {},
   "outputs": [],
   "source": [
    "df = pd.read_excel('OnlineRetailData.xls')"
   ]
  },
  {
   "cell_type": "code",
   "execution_count": 3,
   "id": "dcef9364",
   "metadata": {},
   "outputs": [],
   "source": [
    "#What is the average transaction value per order and what is the associated purchase rate?"
   ]
  },
  {
   "cell_type": "code",
   "execution_count": 4,
   "id": "83dac760",
   "metadata": {},
   "outputs": [],
   "source": [
    "df['Revenue'] = df['Quantity'] * df['UnitPrice']"
   ]
  },
  {
   "cell_type": "code",
   "execution_count": 5,
   "id": "57956bd3",
   "metadata": {},
   "outputs": [
    {
     "data": {
      "text/plain": [
       "388.56416753201796"
      ]
     },
     "execution_count": 5,
     "metadata": {},
     "output_type": "execute_result"
    }
   ],
   "source": [
    "df['Revenue'].sum()/df['InvoiceNo'].nunique()"
   ]
  },
  {
   "cell_type": "code",
   "execution_count": 6,
   "id": "9e4fc92b",
   "metadata": {},
   "outputs": [],
   "source": [
    "#Average transaction value per order: $388.56"
   ]
  },
  {
   "cell_type": "code",
   "execution_count": 7,
   "id": "46f1ef2a",
   "metadata": {},
   "outputs": [
    {
     "data": {
      "text/plain": [
       "189.711664935964"
      ]
     },
     "execution_count": 7,
     "metadata": {},
     "output_type": "execute_result"
    }
   ],
   "source": [
    "df['Quantity'].sum()/ df ['InvoiceNo'].nunique()"
   ]
  },
  {
   "cell_type": "code",
   "execution_count": 8,
   "id": "c8324ac0",
   "metadata": {},
   "outputs": [],
   "source": [
    "#Associated purchase rate: 189"
   ]
  },
  {
   "cell_type": "code",
   "execution_count": 9,
   "id": "c3c25d4e",
   "metadata": {},
   "outputs": [],
   "source": [
    "#What is the relation between the money spent in each order and the number of products ordered in each order?"
   ]
  },
  {
   "cell_type": "code",
   "execution_count": 11,
   "id": "fe070e60",
   "metadata": {},
   "outputs": [
    {
     "name": "stderr",
     "output_type": "stream",
     "text": [
      "/var/folders/nc/q7r_qm3x29g617688jryj4jw0000gn/T/ipykernel_21957/2048080490.py:1: FutureWarning: Indexing with multiple keys (implicitly converted to a tuple of keys) will be deprecated, use a list instead.\n",
      "  df_order_level= df.groupby (['InvoiceNo'])['Quantity','Revenue'].sum()\n"
     ]
    }
   ],
   "source": [
    "df_order_level= df.groupby (['InvoiceNo'])['Quantity','Revenue'].sum()"
   ]
  },
  {
   "cell_type": "code",
   "execution_count": 12,
   "id": "8226da58",
   "metadata": {},
   "outputs": [],
   "source": [
    "df_order_level=df_order_level[df_order_level['Quantity']>0]"
   ]
  },
  {
   "cell_type": "code",
   "execution_count": 13,
   "id": "fb01062c",
   "metadata": {},
   "outputs": [
    {
     "data": {
      "text/html": [
       "<div>\n",
       "<style scoped>\n",
       "    .dataframe tbody tr th:only-of-type {\n",
       "        vertical-align: middle;\n",
       "    }\n",
       "\n",
       "    .dataframe tbody tr th {\n",
       "        vertical-align: top;\n",
       "    }\n",
       "\n",
       "    .dataframe thead th {\n",
       "        text-align: right;\n",
       "    }\n",
       "</style>\n",
       "<table border=\"1\" class=\"dataframe\">\n",
       "  <thead>\n",
       "    <tr style=\"text-align: right;\">\n",
       "      <th></th>\n",
       "      <th>Quantity</th>\n",
       "      <th>Revenue</th>\n",
       "    </tr>\n",
       "    <tr>\n",
       "      <th>InvoiceNo</th>\n",
       "      <th></th>\n",
       "      <th></th>\n",
       "    </tr>\n",
       "  </thead>\n",
       "  <tbody>\n",
       "    <tr>\n",
       "      <th>536365</th>\n",
       "      <td>40</td>\n",
       "      <td>139.12</td>\n",
       "    </tr>\n",
       "    <tr>\n",
       "      <th>536366</th>\n",
       "      <td>12</td>\n",
       "      <td>22.20</td>\n",
       "    </tr>\n",
       "    <tr>\n",
       "      <th>536367</th>\n",
       "      <td>83</td>\n",
       "      <td>278.73</td>\n",
       "    </tr>\n",
       "    <tr>\n",
       "      <th>536368</th>\n",
       "      <td>15</td>\n",
       "      <td>70.05</td>\n",
       "    </tr>\n",
       "    <tr>\n",
       "      <th>536369</th>\n",
       "      <td>3</td>\n",
       "      <td>17.85</td>\n",
       "    </tr>\n",
       "    <tr>\n",
       "      <th>...</th>\n",
       "      <td>...</td>\n",
       "      <td>...</td>\n",
       "    </tr>\n",
       "    <tr>\n",
       "      <th>541686</th>\n",
       "      <td>117</td>\n",
       "      <td>377.30</td>\n",
       "    </tr>\n",
       "    <tr>\n",
       "      <th>541690</th>\n",
       "      <td>20</td>\n",
       "      <td>42.20</td>\n",
       "    </tr>\n",
       "    <tr>\n",
       "      <th>541692</th>\n",
       "      <td>10</td>\n",
       "      <td>25.00</td>\n",
       "    </tr>\n",
       "    <tr>\n",
       "      <th>541695</th>\n",
       "      <td>1253</td>\n",
       "      <td>3323.19</td>\n",
       "    </tr>\n",
       "    <tr>\n",
       "      <th>541696</th>\n",
       "      <td>87</td>\n",
       "      <td>211.83</td>\n",
       "    </tr>\n",
       "  </tbody>\n",
       "</table>\n",
       "<p>2310 rows × 2 columns</p>\n",
       "</div>"
      ],
      "text/plain": [
       "           Quantity  Revenue\n",
       "InvoiceNo                   \n",
       "536365           40   139.12\n",
       "536366           12    22.20\n",
       "536367           83   278.73\n",
       "536368           15    70.05\n",
       "536369            3    17.85\n",
       "...             ...      ...\n",
       "541686          117   377.30\n",
       "541690           20    42.20\n",
       "541692           10    25.00\n",
       "541695         1253  3323.19\n",
       "541696           87   211.83\n",
       "\n",
       "[2310 rows x 2 columns]"
      ]
     },
     "execution_count": 13,
     "metadata": {},
     "output_type": "execute_result"
    }
   ],
   "source": [
    "df_order_level"
   ]
  },
  {
   "cell_type": "code",
   "execution_count": 14,
   "id": "b4b7d275",
   "metadata": {},
   "outputs": [],
   "source": [
    "import seaborn as sns"
   ]
  },
  {
   "cell_type": "code",
   "execution_count": 15,
   "id": "b4179df0",
   "metadata": {},
   "outputs": [
    {
     "data": {
      "text/plain": [
       "<AxesSubplot:xlabel='Quantity', ylabel='Revenue'>"
      ]
     },
     "execution_count": 15,
     "metadata": {},
     "output_type": "execute_result"
    },
    {
     "data": {
      "image/png": "[encoded data removed]",
      "text/plain": [
       "<Figure size 640x480 with 1 Axes>"
      ]
     },
     "metadata": {},
     "output_type": "display_data"
    }
   ],
   "source": [
    "sns.regplot(x='Quantity', y='Revenue', data=df_order_level, fit_reg = False, scatter_kws={\"alpha\": 0.2})"
   ]
  },
  {
   "cell_type": "code",
   "execution_count": 16,
   "id": "5756e331",
   "metadata": {},
   "outputs": [],
   "source": [
    "#What is the average transaction value per customer? "
   ]
  },
  {
   "cell_type": "code",
   "execution_count": 17,
   "id": "a839a556",
   "metadata": {},
   "outputs": [
    {
     "name": "stderr",
     "output_type": "stream",
     "text": [
      "/var/folders/nc/q7r_qm3x29g617688jryj4jw0000gn/T/ipykernel_21957/619555583.py:1: FutureWarning: Indexing with multiple keys (implicitly converted to a tuple of keys) will be deprecated, use a list instead.\n",
      "  df_customer_level= df.groupby (['CustomerID'])['Quantity','Revenue'].sum()\n"
     ]
    }
   ],
   "source": [
    "df_customer_level= df.groupby (['CustomerID'])['Quantity','Revenue'].sum()"
   ]
  },
  {
   "cell_type": "code",
   "execution_count": 18,
   "id": "dc32f44d",
   "metadata": {},
   "outputs": [
    {
     "data": {
      "text/html": [
       "<div>\n",
       "<style scoped>\n",
       "    .dataframe tbody tr th:only-of-type {\n",
       "        vertical-align: middle;\n",
       "    }\n",
       "\n",
       "    .dataframe tbody tr th {\n",
       "        vertical-align: top;\n",
       "    }\n",
       "\n",
       "    .dataframe thead th {\n",
       "        text-align: right;\n",
       "    }\n",
       "</style>\n",
       "<table border=\"1\" class=\"dataframe\">\n",
       "  <thead>\n",
       "    <tr style=\"text-align: right;\">\n",
       "      <th></th>\n",
       "      <th>Quantity</th>\n",
       "      <th>Revenue</th>\n",
       "    </tr>\n",
       "    <tr>\n",
       "      <th>CustomerID</th>\n",
       "      <th></th>\n",
       "      <th></th>\n",
       "    </tr>\n",
       "  </thead>\n",
       "  <tbody>\n",
       "    <tr>\n",
       "      <th>12346.0</th>\n",
       "      <td>0</td>\n",
       "      <td>0.00</td>\n",
       "    </tr>\n",
       "    <tr>\n",
       "      <th>12347.0</th>\n",
       "      <td>319</td>\n",
       "      <td>711.79</td>\n",
       "    </tr>\n",
       "    <tr>\n",
       "      <th>12348.0</th>\n",
       "      <td>1254</td>\n",
       "      <td>892.80</td>\n",
       "    </tr>\n",
       "    <tr>\n",
       "      <th>12356.0</th>\n",
       "      <td>1216</td>\n",
       "      <td>2271.62</td>\n",
       "    </tr>\n",
       "    <tr>\n",
       "      <th>12359.0</th>\n",
       "      <td>144</td>\n",
       "      <td>547.50</td>\n",
       "    </tr>\n",
       "    <tr>\n",
       "      <th>...</th>\n",
       "      <td>...</td>\n",
       "      <td>...</td>\n",
       "    </tr>\n",
       "    <tr>\n",
       "      <th>18256.0</th>\n",
       "      <td>-70</td>\n",
       "      <td>-50.10</td>\n",
       "    </tr>\n",
       "    <tr>\n",
       "      <th>18259.0</th>\n",
       "      <td>116</td>\n",
       "      <td>376.30</td>\n",
       "    </tr>\n",
       "    <tr>\n",
       "      <th>18260.0</th>\n",
       "      <td>487</td>\n",
       "      <td>787.77</td>\n",
       "    </tr>\n",
       "    <tr>\n",
       "      <th>18269.0</th>\n",
       "      <td>70</td>\n",
       "      <td>138.90</td>\n",
       "    </tr>\n",
       "    <tr>\n",
       "      <th>18283.0</th>\n",
       "      <td>61</td>\n",
       "      <td>108.45</td>\n",
       "    </tr>\n",
       "  </tbody>\n",
       "</table>\n",
       "<p>1204 rows × 2 columns</p>\n",
       "</div>"
      ],
      "text/plain": [
       "            Quantity  Revenue\n",
       "CustomerID                   \n",
       "12346.0            0     0.00\n",
       "12347.0          319   711.79\n",
       "12348.0         1254   892.80\n",
       "12356.0         1216  2271.62\n",
       "12359.0          144   547.50\n",
       "...              ...      ...\n",
       "18256.0          -70   -50.10\n",
       "18259.0          116   376.30\n",
       "18260.0          487   787.77\n",
       "18269.0           70   138.90\n",
       "18283.0           61   108.45\n",
       "\n",
       "[1204 rows x 2 columns]"
      ]
     },
     "execution_count": 18,
     "metadata": {},
     "output_type": "execute_result"
    }
   ],
   "source": [
    "df_customer_level"
   ]
  },
  {
   "cell_type": "code",
   "execution_count": 19,
   "id": "de2da8ae",
   "metadata": {},
   "outputs": [
    {
     "data": {
      "text/plain": [
       "729.8498006644518"
      ]
     },
     "execution_count": 19,
     "metadata": {},
     "output_type": "execute_result"
    }
   ],
   "source": [
    "df_customer_level['Revenue'].mean()"
   ]
  },
  {
   "cell_type": "code",
   "execution_count": 20,
   "id": "f8ed1426",
   "metadata": {},
   "outputs": [],
   "source": [
    "#Average transaction value per customer: $783.01"
   ]
  },
  {
   "cell_type": "code",
   "execution_count": 21,
   "id": "484e1f2d",
   "metadata": {},
   "outputs": [
    {
     "data": {
      "text/plain": [
       "<AxesSubplot:xlabel='Quantity', ylabel='Revenue'>"
      ]
     },
     "execution_count": 21,
     "metadata": {},
     "output_type": "execute_result"
    },
    {
     "data": {
      "image/png": "[encoded data removed]",
      "text/plain": [
       "<Figure size 640x480 with 1 Axes>"
      ]
     },
     "metadata": {},
     "output_type": "display_data"
    }
   ],
   "source": [
    "sns.regplot(x='Quantity', y='Revenue', data=df_customer_level, fit_reg = False, scatter_kws={\"alpha\": 0.2})"
   ]
  },
  {
   "cell_type": "code",
   "execution_count": 22,
   "id": "6f948634",
   "metadata": {},
   "outputs": [],
   "source": [
    "#What are the products’ sale price? "
   ]
  },
  {
   "cell_type": "code",
   "execution_count": 23,
   "id": "3c1ebd50",
   "metadata": {},
   "outputs": [],
   "source": [
    "df_product = pd.read_excel('OnlineRetailData.xls')"
   ]
  },
  {
   "cell_type": "code",
   "execution_count": 24,
   "id": "22bd4db3",
   "metadata": {},
   "outputs": [],
   "source": [
    "df_product_avg_price = df_product.groupby (['StockCode'])['UnitPrice'].mean()"
   ]
  },
  {
   "cell_type": "code",
   "execution_count": 25,
   "id": "9f6571e0",
   "metadata": {},
   "outputs": [
    {
     "data": {
      "text/plain": [
       "StockCode\n",
       "10002            1.125455\n",
       "10120            0.210000\n",
       "10125            0.771944\n",
       "10133            0.785294\n",
       "10135            1.265846\n",
       "                  ...    \n",
       "gift_0001_20    16.845000\n",
       "gift_0001_30    25.530000\n",
       "gift_0001_40    34.040000\n",
       "gift_0001_50    42.550000\n",
       "m                2.550000\n",
       "Name: UnitPrice, Length: 2973, dtype: float64"
      ]
     },
     "execution_count": 25,
     "metadata": {},
     "output_type": "execute_result"
    }
   ],
   "source": [
    "df_product_avg_price"
   ]
  },
  {
   "cell_type": "code",
   "execution_count": 26,
   "id": "3e47b1d9",
   "metadata": {},
   "outputs": [],
   "source": [
    "df_product['Revenue'] = df_product['Quantity'] * df_product['UnitPrice']"
   ]
  },
  {
   "cell_type": "code",
   "execution_count": 27,
   "id": "37e08eaf",
   "metadata": {},
   "outputs": [],
   "source": [
    "df_product_level= (df_product.groupby('StockCode')\n",
    "    .agg({'UnitPrice':'mean', 'Revenue': 'sum'})\n",
    "    .reset_index()\n",
    "    .rename(columns={'Revenue':'total revenue'}))"
   ]
  },
  {
   "cell_type": "code",
   "execution_count": 28,
   "id": "3b2584df",
   "metadata": {},
   "outputs": [
    {
     "data": {
      "text/html": [
       "<div>\n",
       "<style scoped>\n",
       "    .dataframe tbody tr th:only-of-type {\n",
       "        vertical-align: middle;\n",
       "    }\n",
       "\n",
       "    .dataframe tbody tr th {\n",
       "        vertical-align: top;\n",
       "    }\n",
       "\n",
       "    .dataframe thead th {\n",
       "        text-align: right;\n",
       "    }\n",
       "</style>\n",
       "<table border=\"1\" class=\"dataframe\">\n",
       "  <thead>\n",
       "    <tr style=\"text-align: right;\">\n",
       "      <th></th>\n",
       "      <th>StockCode</th>\n",
       "      <th>UnitPrice</th>\n",
       "      <th>total revenue</th>\n",
       "    </tr>\n",
       "  </thead>\n",
       "  <tbody>\n",
       "    <tr>\n",
       "      <th>0</th>\n",
       "      <td>10002</td>\n",
       "      <td>1.125455</td>\n",
       "      <td>381.35</td>\n",
       "    </tr>\n",
       "    <tr>\n",
       "      <th>1</th>\n",
       "      <td>10120</td>\n",
       "      <td>0.210000</td>\n",
       "      <td>3.36</td>\n",
       "    </tr>\n",
       "    <tr>\n",
       "      <th>2</th>\n",
       "      <td>10125</td>\n",
       "      <td>0.771944</td>\n",
       "      <td>194.19</td>\n",
       "    </tr>\n",
       "    <tr>\n",
       "      <th>3</th>\n",
       "      <td>10133</td>\n",
       "      <td>0.785294</td>\n",
       "      <td>173.81</td>\n",
       "    </tr>\n",
       "    <tr>\n",
       "      <th>4</th>\n",
       "      <td>10135</td>\n",
       "      <td>1.265846</td>\n",
       "      <td>621.90</td>\n",
       "    </tr>\n",
       "    <tr>\n",
       "      <th>...</th>\n",
       "      <td>...</td>\n",
       "      <td>...</td>\n",
       "      <td>...</td>\n",
       "    </tr>\n",
       "    <tr>\n",
       "      <th>2968</th>\n",
       "      <td>gift_0001_20</td>\n",
       "      <td>16.845000</td>\n",
       "      <td>33.69</td>\n",
       "    </tr>\n",
       "    <tr>\n",
       "      <th>2969</th>\n",
       "      <td>gift_0001_30</td>\n",
       "      <td>25.530000</td>\n",
       "      <td>25.53</td>\n",
       "    </tr>\n",
       "    <tr>\n",
       "      <th>2970</th>\n",
       "      <td>gift_0001_40</td>\n",
       "      <td>34.040000</td>\n",
       "      <td>34.04</td>\n",
       "    </tr>\n",
       "    <tr>\n",
       "      <th>2971</th>\n",
       "      <td>gift_0001_50</td>\n",
       "      <td>42.550000</td>\n",
       "      <td>42.55</td>\n",
       "    </tr>\n",
       "    <tr>\n",
       "      <th>2972</th>\n",
       "      <td>m</td>\n",
       "      <td>2.550000</td>\n",
       "      <td>2.55</td>\n",
       "    </tr>\n",
       "  </tbody>\n",
       "</table>\n",
       "<p>2973 rows × 3 columns</p>\n",
       "</div>"
      ],
      "text/plain": [
       "         StockCode  UnitPrice  total revenue\n",
       "0            10002   1.125455         381.35\n",
       "1            10120   0.210000           3.36\n",
       "2            10125   0.771944         194.19\n",
       "3            10133   0.785294         173.81\n",
       "4            10135   1.265846         621.90\n",
       "...            ...        ...            ...\n",
       "2968  gift_0001_20  16.845000          33.69\n",
       "2969  gift_0001_30  25.530000          25.53\n",
       "2970  gift_0001_40  34.040000          34.04\n",
       "2971  gift_0001_50  42.550000          42.55\n",
       "2972             m   2.550000           2.55\n",
       "\n",
       "[2973 rows x 3 columns]"
      ]
     },
     "execution_count": 28,
     "metadata": {},
     "output_type": "execute_result"
    }
   ],
   "source": [
    "df_product_level"
   ]
  },
  {
   "cell_type": "code",
   "execution_count": 29,
   "id": "d87945a1",
   "metadata": {},
   "outputs": [
    {
     "data": {
      "text/html": [
       "<div>\n",
       "<style scoped>\n",
       "    .dataframe tbody tr th:only-of-type {\n",
       "        vertical-align: middle;\n",
       "    }\n",
       "\n",
       "    .dataframe tbody tr th {\n",
       "        vertical-align: top;\n",
       "    }\n",
       "\n",
       "    .dataframe thead th {\n",
       "        text-align: right;\n",
       "    }\n",
       "</style>\n",
       "<table border=\"1\" class=\"dataframe\">\n",
       "  <thead>\n",
       "    <tr style=\"text-align: right;\">\n",
       "      <th></th>\n",
       "      <th>InvoiceNo</th>\n",
       "      <th>StockCode</th>\n",
       "      <th>Description</th>\n",
       "      <th>Quantity</th>\n",
       "      <th>InvoiceDate</th>\n",
       "      <th>UnitPrice</th>\n",
       "      <th>CustomerID</th>\n",
       "      <th>Country</th>\n",
       "      <th>Revenue</th>\n",
       "      <th>Year</th>\n",
       "    </tr>\n",
       "  </thead>\n",
       "  <tbody>\n",
       "    <tr>\n",
       "      <th>0</th>\n",
       "      <td>536365</td>\n",
       "      <td>85123A</td>\n",
       "      <td>WHITE HANGING HEART T-LIGHT HOLDER</td>\n",
       "      <td>6</td>\n",
       "      <td>2010-12-01 08:26:00</td>\n",
       "      <td>2.55</td>\n",
       "      <td>17850.0</td>\n",
       "      <td>United Kingdom</td>\n",
       "      <td>15.30</td>\n",
       "      <td>2010</td>\n",
       "    </tr>\n",
       "    <tr>\n",
       "      <th>1</th>\n",
       "      <td>536365</td>\n",
       "      <td>71053</td>\n",
       "      <td>WHITE METAL LANTERN</td>\n",
       "      <td>6</td>\n",
       "      <td>2010-12-01 08:26:00</td>\n",
       "      <td>3.39</td>\n",
       "      <td>17850.0</td>\n",
       "      <td>United Kingdom</td>\n",
       "      <td>20.34</td>\n",
       "      <td>2010</td>\n",
       "    </tr>\n",
       "    <tr>\n",
       "      <th>2</th>\n",
       "      <td>536365</td>\n",
       "      <td>84406B</td>\n",
       "      <td>CREAM CUPID HEARTS COAT HANGER</td>\n",
       "      <td>8</td>\n",
       "      <td>2010-12-01 08:26:00</td>\n",
       "      <td>2.75</td>\n",
       "      <td>17850.0</td>\n",
       "      <td>United Kingdom</td>\n",
       "      <td>22.00</td>\n",
       "      <td>2010</td>\n",
       "    </tr>\n",
       "    <tr>\n",
       "      <th>3</th>\n",
       "      <td>536365</td>\n",
       "      <td>84029G</td>\n",
       "      <td>KNITTED UNION FLAG HOT WATER BOTTLE</td>\n",
       "      <td>6</td>\n",
       "      <td>2010-12-01 08:26:00</td>\n",
       "      <td>3.39</td>\n",
       "      <td>17850.0</td>\n",
       "      <td>United Kingdom</td>\n",
       "      <td>20.34</td>\n",
       "      <td>2010</td>\n",
       "    </tr>\n",
       "    <tr>\n",
       "      <th>4</th>\n",
       "      <td>536365</td>\n",
       "      <td>84029E</td>\n",
       "      <td>RED WOOLLY HOTTIE WHITE HEART.</td>\n",
       "      <td>6</td>\n",
       "      <td>2010-12-01 08:26:00</td>\n",
       "      <td>3.39</td>\n",
       "      <td>17850.0</td>\n",
       "      <td>United Kingdom</td>\n",
       "      <td>20.34</td>\n",
       "      <td>2010</td>\n",
       "    </tr>\n",
       "  </tbody>\n",
       "</table>\n",
       "</div>"
      ],
      "text/plain": [
       "  InvoiceNo StockCode                          Description  Quantity  \\\n",
       "0    536365    85123A   WHITE HANGING HEART T-LIGHT HOLDER         6   \n",
       "1    536365     71053                  WHITE METAL LANTERN         6   \n",
       "2    536365    84406B       CREAM CUPID HEARTS COAT HANGER         8   \n",
       "3    536365    84029G  KNITTED UNION FLAG HOT WATER BOTTLE         6   \n",
       "4    536365    84029E       RED WOOLLY HOTTIE WHITE HEART.         6   \n",
       "\n",
       "          InvoiceDate  UnitPrice  CustomerID         Country  Revenue  Year  \n",
       "0 2010-12-01 08:26:00       2.55     17850.0  United Kingdom    15.30  2010  \n",
       "1 2010-12-01 08:26:00       3.39     17850.0  United Kingdom    20.34  2010  \n",
       "2 2010-12-01 08:26:00       2.75     17850.0  United Kingdom    22.00  2010  \n",
       "3 2010-12-01 08:26:00       3.39     17850.0  United Kingdom    20.34  2010  \n",
       "4 2010-12-01 08:26:00       3.39     17850.0  United Kingdom    20.34  2010  "
      ]
     },
     "execution_count": 29,
     "metadata": {},
     "output_type": "execute_result"
    }
   ],
   "source": [
    "#Adding year column to the dataset\n",
    "df_product['Year']=df_product['InvoiceDate'].dt.to_period('Y')\n",
    "df_product.head()"
   ]
  },
  {
   "cell_type": "code",
   "execution_count": 30,
   "id": "5429632b",
   "metadata": {},
   "outputs": [],
   "source": [
    "#Which countries are the customers coming from? Which country has the highest consumption capacity per customer?"
   ]
  },
  {
   "cell_type": "code",
   "execution_count": 31,
   "id": "9008375d",
   "metadata": {},
   "outputs": [
    {
     "data": {
      "text/plain": [
       "Country\n",
       "United Kingdom     455244\n",
       "Netherlands         21381\n",
       "EIRE                13177\n",
       "France              11559\n",
       "Germany             11218\n",
       "Australia            5988\n",
       "Japan                4048\n",
       "Sweden               4006\n",
       "Spain                3958\n",
       "Norway               3582\n",
       "Switzerland          3367\n",
       "Portugal             2786\n",
       "Belgium              2430\n",
       "Finland              1254\n",
       "Cyprus               1061\n",
       "Italy                1038\n",
       "Lithuania             652\n",
       "Denmark               454\n",
       "Poland                428\n",
       "Iceland               319\n",
       "Channel Islands        80\n",
       "Israel                 44\n",
       "Austria                 3\n",
       "Bahrain                 0\n",
       "Name: Quantity, dtype: int64"
      ]
     },
     "execution_count": 31,
     "metadata": {},
     "output_type": "execute_result"
    }
   ],
   "source": [
    "country_price = df.groupby('Country')['Quantity'].sum().sort_values(ascending = False)\n",
    "country_price"
   ]
  },
  {
   "cell_type": "code",
   "execution_count": null,
   "id": "118620ce",
   "metadata": {},
   "outputs": [],
   "source": [
    "#What is the trend of the daily or monthly sale? "
   ]
  },
  {
   "cell_type": "code",
   "execution_count": 32,
   "id": "71428f08",
   "metadata": {},
   "outputs": [],
   "source": [
    "df_product['InvoiceDate'] = df_product['InvoiceDate'].dt.normalize()"
   ]
  },
  {
   "cell_type": "code",
   "execution_count": 35,
   "id": "06bf3617",
   "metadata": {},
   "outputs": [
    {
     "data": {
      "text/plain": [
       "0       2010-12-01\n",
       "1       2010-12-01\n",
       "2       2010-12-01\n",
       "3       2010-12-01\n",
       "4       2010-12-01\n",
       "           ...    \n",
       "65530   2011-01-20\n",
       "65531   2011-01-20\n",
       "65532   2011-01-20\n",
       "65533   2011-01-20\n",
       "65534   2011-01-20\n",
       "Name: InvoiceDate, Length: 65535, dtype: datetime64[ns]"
      ]
     },
     "execution_count": 35,
     "metadata": {},
     "output_type": "execute_result"
    }
   ],
   "source": [
    "df_product['InvoiceDate']"
   ]
  },
  {
   "cell_type": "code",
   "execution_count": 37,
   "id": "cfe28fd5",
   "metadata": {},
   "outputs": [
    {
     "data": {
      "text/plain": [
       "<AxesSubplot:xlabel='InvoiceDate', ylabel='Quantity'>"
      ]
     },
     "execution_count": 37,
     "metadata": {},
     "output_type": "execute_result"
    },
    {
     "data": {
      "image/png": "[encoded data removed]",
      "text/plain": [
       "<Figure size 640x480 with 1 Axes>"
      ]
     },
     "metadata": {},
     "output_type": "display_data"
    }
   ],
   "source": [
    "sns.regplot(x='InvoiceDate', y='Quantity', data=df_product, fit_reg = False, scatter_kws={\"alpha\": 0.5})"
   ]
  },
  {
   "cell_type": "code",
   "execution_count": null,
   "id": "009d29cb",
   "metadata": {},
   "outputs": [],
   "source": []
  }
 ],
 "metadata": {
  "kernelspec": {
   "display_name": "Python 3 (ipykernel)",
   "language": "python",
   "name": "python3"
  },
  "language_info": {
   "codemirror_mode": {
    "name": "ipython",
    "version": 3
   },
   "file_extension": ".py",
   "mimetype": "text/x-python",
   "name": "python",
   "nbconvert_exporter": "python",
   "pygments_lexer": "ipython3",
   "version": "3.9.13"
  }
 },
 "nbformat": 4,
 "nbformat_minor": 5
}
